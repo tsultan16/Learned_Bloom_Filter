{
 "cells": [
  {
   "cell_type": "markdown",
   "metadata": {},
   "source": [
    "#### Standard Bloom Filter\n",
    "\n",
    "We implement a standard standard bloom filter which is a 1-d bit array `B` of size `m` and we use `k` hash functions, each of which maps integer keys $U = \\set{0,1,2,3,...,|U|-1} \\to \\set{0,1,...,m-1}$."
   ]
  },
  {
   "cell_type": "code",
   "execution_count": 69,
   "metadata": {},
   "outputs": [],
   "source": [
    "import sympy as sp\n",
    "import random\n",
    "import math\n",
    "random.seed(123)"
   ]
  },
  {
   "cell_type": "code",
   "execution_count": 87,
   "metadata": {},
   "outputs": [],
   "source": [
    "class TwoUniversalHashFamily:\n",
    "    def __init__(self, m, max_key):\n",
    "        self.m = m  # Size of the hash table\n",
    "        self.p = sp.nextprime(max_key)  # generate a large prime number, greater than any key\n",
    "        self.a = random.randint(1, self.p-1)  # Choose a randomly\n",
    "        self.b = random.randint(0, self.p-1)  # Choose b randomly\n",
    "\n",
    "    def hash(self, k):\n",
    "        return ((self.a * k + self.b) % self.p) % self.m\n",
    "    \n",
    "    def __call__(self, k):\n",
    "        return self.hash(k)\n",
    "\n",
    "\n",
    "class BloomStandard:\n",
    "    def __init__(self, S, m, k=None, max_key=10000000):\n",
    "        self.m = m\n",
    "        if k is None:\n",
    "            self.k = max(1,round((m/len(S)) * math.log(2)))  # optimal number of hash functions for a given m and n \n",
    "            print(f\"Optimal number of hash functions: {self.k}\")      \n",
    "        else:\n",
    "            self.k = k\n",
    "        # draw k random hash functions from universal hash family\n",
    "        self.h = [TwoUniversalHashFamily(m, max_key) for _ in range(self.k)]\n",
    "        self.B = [0] * self.m\n",
    "\n",
    "        # construct bit array\n",
    "        for key in S:\n",
    "            self.insert(key)\n",
    "        print(f\"Bloom filter constructed! Size: {self.m}, Number of hash functions: {self.k}\")\n",
    "\n",
    "    # insert new integer key into the bloom filter \n",
    "    def insert(self, key):\n",
    "        for i in range(self.k):\n",
    "            self.B[self.h[i](key)] = 1\n",
    "\n",
    "    # poerform membership query for the given key\n",
    "    def query(self, key):\n",
    "        q = [0]*self.k\n",
    "        for i in range(self.k):\n",
    "            q[i] = self.B[self.h[i](key)]\n",
    "        if 0 in q:\n",
    "            return False\n",
    "        else:\n",
    "            return True    \n",
    "            \n",
    "    def __str__(self):\n",
    "        return str(self.B)"
   ]
  },
  {
   "cell_type": "code",
   "execution_count": 83,
   "metadata": {},
   "outputs": [
    {
     "name": "stdout",
     "output_type": "stream",
     "text": [
      "Bloom filter constructed! Size: 20, Number of hash functions: 3\n",
      "[1, 1, 0, 0, 1, 1, 1, 1, 1, 1, 1, 1, 0, 0, 1, 1, 1, 1, 0, 0]\n"
     ]
    }
   ],
   "source": [
    "# test the bloom filter\n",
    "S = {5, 7, 11, 13, 17, 23, 29, 31, 37, 41, 43, 47}\n",
    "m = 20\n",
    "k = 3\n",
    "\n",
    "bf = BloomStandard(S, m, k)\n",
    "print(bf)"
   ]
  },
  {
   "cell_type": "code",
   "execution_count": 84,
   "metadata": {},
   "outputs": [
    {
     "name": "stdout",
     "output_type": "stream",
     "text": [
      "Query stream: [56, 55, 81, 75, 76, 74, 44, 50, 36, 38]\n",
      "Key 56 is not in S: False\n",
      "Key 55 is not in S: False\n",
      "Key 81 is not in S: False\n",
      "Key 75 is in S: True --> False Positive!\n",
      "Key 76 is in S: True --> False Positive!\n",
      "Key 74 is not in S: False\n",
      "Key 44 is in S: True --> False Positive!\n",
      "Key 50 is not in S: False\n",
      "Key 36 is not in S: False\n",
      "Key 38 is not in S: False\n"
     ]
    }
   ],
   "source": [
    "# membership query testing\n",
    "q_size = 10\n",
    "\n",
    "# generate a random query stream which contains keys from 0 to 1000 and does not contain keys from S\n",
    "Q = set(range(100)) - S\n",
    "Q = random.sample(list(Q), q_size)\n",
    "\n",
    "print(f\"Query stream: {Q}\")\n",
    "\n",
    "num_FP = 0\n",
    "for key in Q:\n",
    "    found = bf.query(key)\n",
    "    if found:\n",
    "        num_FP += 1\n",
    "        print(f\"Key {key} is in S: {found} --> False Positive!\")\n",
    "    else:\n",
    "        print(f\"Key {key} is not in S: {found}\")"
   ]
  },
  {
   "cell_type": "markdown",
   "metadata": {},
   "source": [
    "#### Test on large input"
   ]
  },
  {
   "cell_type": "code",
   "execution_count": 97,
   "metadata": {},
   "outputs": [
    {
     "name": "stdout",
     "output_type": "stream",
     "text": [
      "Optimal number of hash functions: 7\n",
      "Bloom filter constructed! Size: 1000000, Number of hash functions: 7\n",
      "False positive rate: 0.002\n"
     ]
    }
   ],
   "source": [
    "n = 100000\n",
    "m = 10*n\n",
    "max_key = 1000000\n",
    "# sample random unique integer keys from [0,max_key-1]\n",
    "S = random.sample(range(max_key), n)\n",
    "# construct bloom filter\n",
    "bf = BloomStandard(S, m, max_key=max_key)\n",
    "\n",
    "# generate a random query stream which contains keys from 0 to max_key and does not contain keys from S\n",
    "qsize = 1000\n",
    "Q = set(range(max_key)) - set(S)\n",
    "Q = random.sample(list(Q), qsize)\n",
    "\n",
    "FP = 0\n",
    "for key in Q:\n",
    "    found = bf.query(key)\n",
    "    if found:\n",
    "        FP += 1\n",
    "\n",
    "FP_rate = FP/qsize\n",
    "print(f\"False positive rate: {FP_rate}\")"
   ]
  },
  {
   "cell_type": "code",
   "execution_count": null,
   "metadata": {},
   "outputs": [],
   "source": []
  },
  {
   "cell_type": "code",
   "execution_count": null,
   "metadata": {},
   "outputs": [],
   "source": []
  },
  {
   "cell_type": "code",
   "execution_count": null,
   "metadata": {},
   "outputs": [],
   "source": []
  },
  {
   "cell_type": "code",
   "execution_count": null,
   "metadata": {},
   "outputs": [],
   "source": []
  },
  {
   "cell_type": "code",
   "execution_count": null,
   "metadata": {},
   "outputs": [],
   "source": []
  },
  {
   "cell_type": "code",
   "execution_count": null,
   "metadata": {},
   "outputs": [],
   "source": []
  }
 ],
 "metadata": {
  "kernelspec": {
   "display_name": "torch_clone_2",
   "language": "python",
   "name": "python3"
  },
  "language_info": {
   "codemirror_mode": {
    "name": "ipython",
    "version": 3
   },
   "file_extension": ".py",
   "mimetype": "text/x-python",
   "name": "python",
   "nbconvert_exporter": "python",
   "pygments_lexer": "ipython3",
   "version": "3.11.5"
  }
 },
 "nbformat": 4,
 "nbformat_minor": 2
}
