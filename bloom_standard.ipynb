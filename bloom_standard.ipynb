{
 "cells": [
  {
   "cell_type": "markdown",
   "metadata": {},
   "source": [
    "#### Standard Bloom Filter\n",
    "\n",
    "We implement a standard standard bloom filter which is a 1-d bit array `B` of size `m` and we use `k` hash functions, each of which maps integer keys $U = \\set{0,1,2,3,...,|U|-1} \\to \\set{0,1,...,m-1}$."
   ]
  },
  {
   "cell_type": "code",
   "execution_count": 23,
   "metadata": {},
   "outputs": [],
   "source": [
    "import sympy as sp\n",
    "import random\n",
    "random.seed(123)"
   ]
  },
  {
   "cell_type": "code",
   "execution_count": 49,
   "metadata": {},
   "outputs": [],
   "source": [
    "class TwoUniversalHashFamily:\n",
    "    def __init__(self, m, max_key):\n",
    "        self.m = m  # Size of the hash table\n",
    "        self.p = sp.nextprime(max_key)  # generate a large prime number, greater than any key\n",
    "        self.a = random.randint(1, self.p-1)  # Choose a randomly\n",
    "        self.b = random.randint(0, self.p-1)  # Choose b randomly\n",
    "\n",
    "    def hash(self, k):\n",
    "        return ((self.a * k + self.b) % self.p) % self.m\n",
    "    \n",
    "    def __call__(self, k):\n",
    "        return self.hash(k)\n",
    "\n",
    "\n",
    "class BloomStandard:\n",
    "    def __init__(self, m, k=None, max_key=10000000):\n",
    "        self.m = m\n",
    "        if k is None:\n",
    "            self.k = int((m/max_key) * sp.log(2))  # optimal number of hash functions for a given m and n       \n",
    "        else:\n",
    "            self.k = k\n",
    "        # draw k random hash functions from universal hash family\n",
    "        self.h = [TwoUniversalHashFamily(m, max_key) for _ in range(k)]\n",
    "        self.B = [0] * m\n",
    "\n",
    "    def construct(self, S):\n",
    "        for key in S:\n",
    "            self.insert(key)\n",
    "        print(f\"Bloom filter constructed! Size: {self.m}, Number of hash functions: {self.k}\")\n",
    "\n",
    "    # insert new integer key into the bloom filter \n",
    "    def insert(self, key):\n",
    "        for i in range(self.k):\n",
    "            self.B[self.h[i](key)] = 1\n",
    "\n",
    "    # poerform membership query for the given key\n",
    "    def query(self, key):\n",
    "        q = [0]*self.k\n",
    "        for i in range(self.k):\n",
    "            q[i] = self.B[self.h[i](key)]\n",
    "        if 0 in q:\n",
    "            return False\n",
    "        else:\n",
    "            return True    \n",
    "            \n",
    "    def __str__(self):\n",
    "        return str(self.B)"
   ]
  },
  {
   "cell_type": "code",
   "execution_count": 50,
   "metadata": {},
   "outputs": [
    {
     "name": "stdout",
     "output_type": "stream",
     "text": [
      "Bloom filter constructed! Size: 20, Number of hash functions: 3\n",
      "[1, 1, 0, 1, 1, 1, 1, 0, 0, 1, 1, 1, 0, 1, 1, 1, 1, 0, 0, 1]\n"
     ]
    }
   ],
   "source": [
    "# test the bloom filter\n",
    "S = {5, 7, 11, 13, 17, 23, 29, 31, 37, 41, 43, 47}\n",
    "m = 20\n",
    "k = 3\n",
    "\n",
    "bf = BloomStandard(m, k)\n",
    "bf.construct(S)\n",
    "print(bf)"
   ]
  },
  {
   "cell_type": "code",
   "execution_count": 51,
   "metadata": {},
   "outputs": [
    {
     "name": "stdout",
     "output_type": "stream",
     "text": [
      "Query stream: [20, 2, 66, 96, 75, 21, 73, 80, 6, 72]\n",
      "Key 20 is not in S: False\n",
      "Key 2 is not in S: False\n",
      "Key 66 is in S: True --> False Positive!\n",
      "Key 96 is in S: True --> False Positive!\n",
      "Key 75 is not in S: False\n",
      "Key 21 is not in S: False\n",
      "Key 73 is not in S: False\n",
      "Key 80 is not in S: False\n",
      "Key 6 is not in S: False\n",
      "Key 72 is in S: True --> False Positive!\n"
     ]
    }
   ],
   "source": [
    "# membership query testing\n",
    "q_size = 10\n",
    "\n",
    "# generate a random query stream which contains keys from 0 to 1000 and does not contain keys from S\n",
    "Q = set(range(100)) - S\n",
    "Q = random.sample(list(Q), q_size)\n",
    "\n",
    "print(f\"Query stream: {Q}\")\n",
    "\n",
    "num_FP = 0\n",
    "for key in Q:\n",
    "    found = bf.query(key)\n",
    "    if found:\n",
    "        num_FP += 1\n",
    "        print(f\"Key {key} is in S: {found} --> False Positive!\")\n",
    "    else:\n",
    "        print(f\"Key {key} is not in S: {found}\")"
   ]
  },
  {
   "cell_type": "code",
   "execution_count": null,
   "metadata": {},
   "outputs": [],
   "source": []
  },
  {
   "cell_type": "code",
   "execution_count": null,
   "metadata": {},
   "outputs": [],
   "source": []
  },
  {
   "cell_type": "code",
   "execution_count": null,
   "metadata": {},
   "outputs": [],
   "source": []
  },
  {
   "cell_type": "code",
   "execution_count": null,
   "metadata": {},
   "outputs": [],
   "source": []
  },
  {
   "cell_type": "code",
   "execution_count": null,
   "metadata": {},
   "outputs": [],
   "source": []
  },
  {
   "cell_type": "code",
   "execution_count": null,
   "metadata": {},
   "outputs": [],
   "source": []
  },
  {
   "cell_type": "code",
   "execution_count": null,
   "metadata": {},
   "outputs": [],
   "source": []
  },
  {
   "cell_type": "code",
   "execution_count": null,
   "metadata": {},
   "outputs": [],
   "source": []
  }
 ],
 "metadata": {
  "kernelspec": {
   "display_name": "torch_clone_2",
   "language": "python",
   "name": "python3"
  },
  "language_info": {
   "codemirror_mode": {
    "name": "ipython",
    "version": 3
   },
   "file_extension": ".py",
   "mimetype": "text/x-python",
   "name": "python",
   "nbconvert_exporter": "python",
   "pygments_lexer": "ipython3",
   "version": "3.11.5"
  }
 },
 "nbformat": 4,
 "nbformat_minor": 2
}
